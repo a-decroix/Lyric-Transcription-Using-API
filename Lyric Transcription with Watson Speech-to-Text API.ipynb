{
 "cells": [
  {
   "cell_type": "markdown",
   "id": "9934a208",
   "metadata": {},
   "source": [
    "# Lyric Transcription with Watson Speech-to-Text API"
   ]
  },
  {
   "cell_type": "markdown",
   "id": "c9000bb8",
   "metadata": {},
   "source": [
    "Inspired by my love of music!"
   ]
  },
  {
   "cell_type": "markdown",
   "id": "f1bfbc72",
   "metadata": {},
   "source": [
    "1. Install watson library"
   ]
  },
  {
   "cell_type": "code",
   "execution_count": null,
   "id": "d0c80256",
   "metadata": {},
   "outputs": [],
   "source": [
    "!pip3 install ibm_watson wget"
   ]
  },
  {
   "cell_type": "code",
   "execution_count": null,
   "id": "58ccbd78",
   "metadata": {},
   "outputs": [],
   "source": [
    "from ibm_watson import SpeechToTextV1 \n",
    "import json\n",
    "from ibm_cloud_sdk_core.authenticators import IAMAuthenticator"
   ]
  },
  {
   "cell_type": "markdown",
   "id": "06c80ad2",
   "metadata": {},
   "source": [
    "2. Insert the API instance url here"
   ]
  },
  {
   "cell_type": "code",
   "execution_count": null,
   "id": "328ba50f",
   "metadata": {},
   "outputs": [],
   "source": [
    "url_s2t = \"\""
   ]
  },
  {
   "cell_type": "markdown",
   "id": "96397354",
   "metadata": {},
   "source": [
    "3. Insert the API key here"
   ]
  },
  {
   "cell_type": "code",
   "execution_count": null,
   "id": "5e183b4f",
   "metadata": {},
   "outputs": [],
   "source": [
    "iam_apikey_s2t = \"\""
   ]
  },
  {
   "cell_type": "markdown",
   "id": "2837cea2",
   "metadata": {},
   "source": [
    "4. Connect to the Speech to Text adapter"
   ]
  },
  {
   "cell_type": "code",
   "execution_count": null,
   "id": "8ce02e07",
   "metadata": {},
   "outputs": [],
   "source": [
    "authenticator = IAMAuthenticator(iam_apikey_s2t)\n",
    "s2t = SpeechToTextV1(authenticator=authenticator)\n",
    "s2t.set_service_url(url_s2t)\n",
    "s2t"
   ]
  },
  {
   "cell_type": "markdown",
   "id": "29a0cea1",
   "metadata": {},
   "source": [
    "5. Get the audio file"
   ]
  },
  {
   "cell_type": "code",
   "execution_count": null,
   "id": "28230df8",
   "metadata": {},
   "outputs": [],
   "source": [
    "#Replace Your_file_name with the name of the file you'd like to transcribe\n",
    "#Replace your_file_url with the location of the resource\n",
    "\n",
    "!wget -O Your_file_name.mp3  https:#your_file_url "
   ]
  },
  {
   "cell_type": "markdown",
   "id": "7f481095",
   "metadata": {},
   "source": [
    "6. Open the audio file as wav"
   ]
  },
  {
   "cell_type": "code",
   "execution_count": null,
   "id": "3b62cc18",
   "metadata": {},
   "outputs": [],
   "source": [
    "#Put your filename in filename = ' '\n",
    "\n",
    "filename= ''\n",
    "\n",
    "with open(filename, mode=\"rb\")  as wav:\n",
    "    response = s2t.recognize(audio=wav, content_type='audio/mp3')"
   ]
  },
  {
   "cell_type": "code",
   "execution_count": null,
   "id": "e07bcbf1",
   "metadata": {},
   "outputs": [],
   "source": [
    "#Check to make sure the lyrics are returned\n",
    "\n",
    "response.result"
   ]
  },
  {
   "cell_type": "markdown",
   "id": "73fc2adf",
   "metadata": {},
   "source": [
    "7. Export the transcribed lyrics to 'lyrics.txt' \n"
   ]
  },
  {
   "cell_type": "code",
   "execution_count": null,
   "id": "601465eb",
   "metadata": {},
   "outputs": [],
   "source": [
    "with open('lyricfile.txt', 'w') as lyrics:\n",
    "    for result in response.result['results']:\n",
    "        lyrics.write(result['alternatives'][0]['transcript'])\n"
   ]
  }
 ],
 "metadata": {
  "kernelspec": {
   "display_name": "Python 3",
   "language": "python",
   "name": "python3"
  },
  "language_info": {
   "codemirror_mode": {
    "name": "ipython",
    "version": 3
   },
   "file_extension": ".py",
   "mimetype": "text/x-python",
   "name": "python",
   "nbconvert_exporter": "python",
   "pygments_lexer": "ipython3",
   "version": "3.8.8"
  }
 },
 "nbformat": 4,
 "nbformat_minor": 5
}
